{
 "cells": [
  {
   "cell_type": "code",
   "execution_count": 1,
   "id": "5d54d41e",
   "metadata": {},
   "outputs": [
    {
     "name": "stdout",
     "output_type": "stream",
     "text": [
      "Precision: 0.13\n",
      "Recall: 0.12\n",
      "F1 Score: 0.12\n",
      "\n",
      "Example Anomalies:\n",
      "    microphone_requests  location_requests  ads_related_to_conversations  \\\n",
      "14                    5                  6                             1   \n",
      "44                   14                 29                             9   \n",
      "58                    1                  7                             0   \n",
      "75                    0                  0                             4   \n",
      "85                    2                  1                             1   \n",
      "\n",
      "    app_requested_permissions  privacy_violation  anomaly_score  \\\n",
      "14                          1                  0             19   \n",
      "44                          0                  0             94   \n",
      "58                          1                  0              9   \n",
      "75                          0                  0             22   \n",
      "85                          1                  0              8   \n",
      "\n",
      "    predicted_anomaly  \n",
      "14                  1  \n",
      "44                  1  \n",
      "58                  1  \n",
      "75                  1  \n",
      "85                  1  \n"
     ]
    }
   ],
   "source": [
    "import pandas as pd\n",
    "import numpy as np\n",
    "from sklearn.ensemble import IsolationForest\n",
    "import matplotlib.pyplot as plt\n",
    "\n",
    "# Generate dummy data\n",
    "np.random.seed(42)\n",
    "n_samples = 1000\n",
    "\n",
    "data = {\n",
    "    'microphone_requests': np.random.randint(0, 20, n_samples),\n",
    "    'location_requests': np.random.randint(0, 30, n_samples),\n",
    "    'ads_related_to_conversations': np.random.randint(0, 10, n_samples),\n",
    "    'app_requested_permissions': np.random.choice([0, 1], n_samples),\n",
    "    'privacy_violation': np.random.choice([0, 1], n_samples, p=[0.9, 0.1])  # 10% privacy violations\n",
    "}\n",
    "\n",
    "df = pd.DataFrame(data)\n",
    "\n",
    "# Create an anomaly score based on the features\n",
    "df['anomaly_score'] = (\n",
    "    df['microphone_requests'] * 2 +\n",
    "    df['location_requests'] +\n",
    "    df['ads_related_to_conversations'] * 3 +\n",
    "    (1 - df['app_requested_permissions']) * 10  # Higher score if permissions not requested\n",
    ")\n",
    "\n",
    "# Initialize and fit the Isolation Forest model\n",
    "clf = IsolationForest(contamination=0.1, random_state=42)\n",
    "clf.fit(df[['anomaly_score']])\n",
    "\n",
    "# Predict anomalies\n",
    "df['predicted_anomaly'] = clf.predict(df[['anomaly_score']])\n",
    "df['predicted_anomaly'] = df['predicted_anomaly'].map({1: 0, -1: 1})  # Map 1 to 0 (normal) and -1 to 1 (anomaly)\n",
    "\n",
    "# Calculate detection metrics\n",
    "true_positives = ((df['predicted_anomaly'] == 1) & (df['privacy_violation'] == 1)).sum()\n",
    "false_positives = ((df['predicted_anomaly'] == 1) & (df['privacy_violation'] == 0)).sum()\n",
    "true_negatives = ((df['predicted_anomaly'] == 0) & (df['privacy_violation'] == 0)).sum()\n",
    "false_negatives = ((df['predicted_anomaly'] == 0) & (df['privacy_violation'] == 1)).sum()\n",
    "\n",
    "precision = true_positives / (true_positives + false_positives)\n",
    "recall = true_positives / (true_positives + false_negatives)\n",
    "f1_score = 2 * (precision * recall) / (precision + recall)\n",
    "\n",
    "print(f\"Precision: {precision:.2f}\")\n",
    "print(f\"Recall: {recall:.2f}\")\n",
    "print(f\"F1 Score: {f1_score:.2f}\")\n",
    "\n",
    "# Print some example anomalies\n",
    "print(\"\\nExample Anomalies:\")\n",
    "anomalies = df[df['predicted_anomaly'] == 1].head()\n",
    "print(anomalies)"
   ]
  },
  {
   "cell_type": "code",
   "execution_count": null,
   "id": "7381e0d8",
   "metadata": {},
   "outputs": [],
   "source": []
  }
 ],
 "metadata": {
  "kernelspec": {
   "display_name": "Python 3",
   "language": "python",
   "name": "python3"
  },
  "language_info": {
   "codemirror_mode": {
    "name": "ipython",
    "version": 3
   },
   "file_extension": ".py",
   "mimetype": "text/x-python",
   "name": "python",
   "nbconvert_exporter": "python",
   "pygments_lexer": "ipython3",
   "version": "3.8.8"
  }
 },
 "nbformat": 4,
 "nbformat_minor": 5
}
